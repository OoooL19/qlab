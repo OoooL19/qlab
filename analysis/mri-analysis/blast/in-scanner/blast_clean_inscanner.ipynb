{
 "cells": [
  {
   "cell_type": "code",
   "execution_count": 14,
   "metadata": {},
   "outputs": [],
   "source": [
    "import openpyxl as xl\n",
    "import pandas as pd\n",
    "from pandas import ExcelWriter\n",
    "\n",
    "wb = xl.load_workbook('example.xlsx') #load excel in to the python\n",
    "sheet = wb['Sheet1']\n",
    "cell = sheet['a1']"
   ]
  },
  {
   "cell_type": "code",
   "execution_count": 15,
   "metadata": {},
   "outputs": [
    {
     "data": {
      "text/plain": [
       "<Cell 'Sheet1'.A1>"
      ]
     },
     "execution_count": 15,
     "metadata": {},
     "output_type": "execute_result"
    }
   ],
   "source": [
    "cell"
   ]
  },
  {
   "cell_type": "code",
   "execution_count": 5,
   "metadata": {},
   "outputs": [
    {
     "name": "stdout",
     "output_type": "stream",
     "text": [
      "['R', 'S', 'R', 'S', 'R']\n"
     ]
    }
   ],
   "source": [
    "a = [] #creat a list to store R S B\n",
    "for row in range(1, sheet.max_row + 1):\n",
    "    cell = sheet.cell(row, 2)\n",
    "    for list in cell.value:\n",
    "        a.append(list)\n",
    "\n",
    "a = [x for x in a if x != 'B'] #Delete all the B's\n",
    "inRow = [] #create another list to store R and S without repeat\n",
    "last = None\n",
    "for x in a:\n",
    "        if last == x and (len(inRow) == 0 or inRow[-1] != x):\n",
    "            inRow.append(last)\n",
    "        last = x\n",
    "print(inRow)"
   ]
  },
  {
   "cell_type": "code",
   "execution_count": 6,
   "metadata": {},
   "outputs": [],
   "source": [
    "df = pd.DataFrame(inRow) #write the result into a new excel\n",
    "writer = ExcelWriter('example2.xlsx')\n",
    "df.to_excel(writer,'Sheet1',index=False)\n",
    "writer.save()"
   ]
  },
  {
   "cell_type": "code",
   "execution_count": null,
   "metadata": {},
   "outputs": [],
   "source": []
  }
 ],
 "metadata": {
  "kernelspec": {
   "display_name": "Python 3",
   "language": "python",
   "name": "python3"
  },
  "language_info": {
   "codemirror_mode": {
    "name": "ipython",
    "version": 3
   },
   "file_extension": ".py",
   "mimetype": "text/x-python",
   "name": "python",
   "nbconvert_exporter": "python",
   "pygments_lexer": "ipython3",
   "version": "3.7.0"
  }
 },
 "nbformat": 4,
 "nbformat_minor": 2
}
